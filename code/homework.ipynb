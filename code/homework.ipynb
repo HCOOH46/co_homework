{
 "cells": [
  {
   "cell_type": "markdown",
   "metadata": {
    "slideshow": {
     "slide_type": "slide"
    }
   },
   "source": [
    "# Homework of Computer Orgenization and Design"
   ]
  },
  {
   "cell_type": "markdown",
   "metadata": {
    "slideshow": {
     "slide_type": "slide"
    },
    "vscode": {
     "languageId": "plaintext"
    }
   },
   "source": [
    "# 4.18\n",
    "Assume that x11 is initialized to 11 and x12 is initialized to 22. \n",
    "Suppose you executed the code below on a version of the pipeline from Section \n",
    "4.5 that does not handle data hazards (i.e., the programmer is responsible for \n",
    " addressing data hazards by inserting NOP instructions where necessary). What \n",
    "would the final values of registers x13 and x14 be?\n",
    "```asm\n",
    "addi x11, x12, 5\n",
    "add x13, x11, x12\n",
    "addi x14, x11, 15\n",
    "```"
   ]
  },
  {
   "cell_type": "markdown",
   "metadata": {
    "slideshow": {
     "slide_type": "fragment"
    }
   },
   "source": [
    "## Answer\n",
    "x13 = 33 and x14 = 36"
   ]
  },
  {
   "cell_type": "markdown",
   "metadata": {
    "slideshow": {
     "slide_type": "fragment"
    }
   },
   "source": [
    "## Explanation\n",
    "\n",
    "\n",
    "In `add x13, x11, x12`, x11 == 11(`addi x11, x12, 5` has not reached WB), and x12 == 22, so x13 is actually 33.\n",
    "\n",
    "That's also the reason why x14 is actually 36."
   ]
  },
  {
   "cell_type": "markdown",
   "metadata": {
    "slideshow": {
     "slide_type": "slide"
    },
    "vscode": {
     "languageId": "plaintext"
    }
   },
   "source": [
    "# 4.20\n",
    "Add NOP instructions to the code below so that it will run correctly on a pipeline that does not handle data hazards.\n",
    "```asm\n",
    "addi x11, x12, 5\n",
    "add x13, x11, x12\n",
    "addi x14, x11, 15\n",
    "add x15, x13, x12\n",
    "```"
   ]
  },
  {
   "cell_type": "markdown",
   "metadata": {
    "slideshow": {
     "slide_type": "fragment"
    }
   },
   "source": [
    "## Answer & Explanation\n",
    "```asm\n",
    "addi x11, x12, 5\n",
    "NOP # still in EX, wait until reach the WB\n",
    "NOP # still in Mem, wait until reach the WB\n",
    "add x13, x11, x12\n",
    "addi x14, x11, 15\n",
    "NOP # still in Mem, wait until reach the WB\n",
    "add x15, x13, x12\n",
    "```"
   ]
  },
  {
   "cell_type": "markdown",
   "metadata": {
    "slideshow": {
     "slide_type": "slide"
    }
   },
   "source": [
    "# 5.3\n",
    "By convention, a cache is named according to the amount of data it contains \n",
    "(i.e., a 4 KiB cache can hold 4 KiB of data); however, caches also require SRAM to \n",
    "store metadata such as tags and valid bits. For this exercise, you will examine how \n",
    "a cache’s configuration affects the total amount of SRAM needed to implement it as \n",
    "well as the performance of the cache. For all parts, assume that the caches are byte \n",
    "addressable, and that addresses and words are 64 bits."
   ]
  },
  {
   "cell_type": "markdown",
   "metadata": {
    "slideshow": {
     "slide_type": "subslide"
    }
   },
   "source": [
    "## 5.3.1\n",
    "Calculate the total number of bits required to implement a 32 \n",
    "KiB cache with two-word blocks."
   ]
  },
  {
   "cell_type": "markdown",
   "metadata": {
    "slideshow": {
     "slide_type": "fragment"
    }
   },
   "source": [
    "### Answer\n",
    "364544 bits"
   ]
  },
  {
   "cell_type": "markdown",
   "metadata": {
    "slideshow": {
     "slide_type": "fragment"
    }
   },
   "source": [
    "### Explanation\n",
    "1. Each word is 8 bytes, so each block contains $2^4$ bytes.\n",
    "2. The cache contains 32KiB = $2^{15}$ bytes of data, so it has $\\frac{2^{15}}{2^4} = 2^{11}$ lines of data.\n",
    "3. The cach is byte addressable, so it has a 4-bit offset and an 11-bit index ($2^{11}$ lines), and a 49-bit tag.\n",
    "4. The structure of each line is below:\n",
    "\n",
    "| vaild | tag | data |\n",
    "|:---:|:---:|:---:|\n",
    "| 1 | 49 | 128 |\n",
    "5. (1 + 49 + 128) × $2^{11}$ = 364544 bits"
   ]
  },
  {
   "cell_type": "markdown",
   "metadata": {
    "slideshow": {
     "slide_type": "subslide"
    }
   },
   "source": [
    "## 5.3.2\n",
    "Calculate the total number of bits required to implement a 64 KiB cache with 16-word blocks. How much bigger is this cache than the 32 \n",
    "KiB cache described in Exercise 5.3.1? (Notice that, by changing the block size, we \n",
    "doubled the amount of data without doubling the total size of the cache.)"
   ]
  },
  {
   "cell_type": "markdown",
   "metadata": {
    "slideshow": {
     "slide_type": "fragment"
    }
   },
   "source": [
    "### Answer\n",
    "51% increase"
   ]
  },
  {
   "cell_type": "markdown",
   "metadata": {
    "slideshow": {
     "slide_type": "fragment"
    }
   },
   "source": [
    "### Explanation\n",
    "\n",
    "$2^9$ lines\n",
    "\n",
    "| vaild | tag | data |\n",
    "|:---:|:---:|:---:|\n",
    "| 1 | 48 | 1024 |\n",
    "\n",
    "total = $2^9 \\times (1 + 48 + 1024)$ = 549376 bits\n",
    "\n",
    "$\\frac{549376}{364544}$ = 1.51"
   ]
  },
  {
   "cell_type": "markdown",
   "metadata": {
    "slideshow": {
     "slide_type": "subslide"
    }
   },
   "source": [
    "## 5.3.3\n",
    "Explain why this 64 KiB cache, despite its larger data size, might provide slower performance than the first cache."
   ]
  },
  {
   "cell_type": "markdown",
   "metadata": {
    "slideshow": {
     "slide_type": "fragment"
    }
   },
   "source": [
    "### Answer\n",
    "The larger block size may require an increased hit time and an increased miss penalty than the original cache. The fewer number of blocks may cause a higher conflict miss rate than the original cache. "
   ]
  },
  {
   "cell_type": "markdown",
   "metadata": {
    "slideshow": {
     "slide_type": "subslide"
    }
   },
   "source": [
    "## 5.3.4\n",
    "Generate a series of read requests that have a lower miss rate on a 32 KiB two-way set associative cache than on the cache described in Exercise 5.3.1."
   ]
  },
  {
   "cell_type": "markdown",
   "metadata": {
    "slideshow": {
     "slide_type": "fragment"
    }
   },
   "source": [
    "## Answer\n",
    "A sequence with the same index but with tags that are different between adjacent elements. The index and tags are for the cache described in Exercise 5.3.1 .\n",
    "\n",
    "For example, decimal `2124, 67656, 2124, 67656, ...`, the index is 0x84, but tags are different between adjacent elements."
   ]
  },
  {
   "cell_type": "markdown",
   "metadata": {
    "slideshow": {
     "slide_type": "slide"
    }
   },
   "source": [
    "# 5.4\n",
    "Section 5.3 shows the typical method to index a direct-mapped \n",
    "cache, specifically (Block address) modulo (Number of blocks in the cache). Assuming \n",
    "a 64-bit address and 1024 blocks in the cache, consider a different indexing function, \n",
    "specifically (Block address[63:54] XOR Block address[53:44]). Is it possible to use \n",
    "this to index a direct-mapped cache? If so, explain why and discuss any changes that \n",
    "might need to be made to the cache. If it is not possible, explain why."
   ]
  },
  {
   "cell_type": "markdown",
   "metadata": {
    "slideshow": {
     "slide_type": "fragment"
    }
   },
   "source": [
    "## Answer\n",
    "Yes, it is possible. To implement a direct-mapped cache, we need only a \n",
    "function that will take an address as input and produce a 10-bit output. \n",
    "\n",
    "##### Changes:\n",
    "1. The cache would require a larger tag since the effective bits of the index is not enough. \n",
    "2. There would likely be more conflict misses(more blocks in the same line)."
   ]
  },
  {
   "cell_type": "markdown",
   "metadata": {
    "slideshow": {
     "slide_type": "slide"
    }
   },
   "source": [
    "# 5.5\n",
    "For a direct-mapped cache design with a 64-bit address, the following bits of \n",
    "the address are used to access the cache.\n",
    "\n",
    "| Tag | Index | Offset |\n",
    "|:---:|:---:|:---:|\n",
    "| [63:10] | [9:5] | [4:0] |"
   ]
  },
  {
   "cell_type": "markdown",
   "metadata": {
    "slideshow": {
     "slide_type": "subslide"
    }
   },
   "source": [
    "## 5.5.1 \n",
    "What is the cache block size (in words)?"
   ]
  },
  {
   "cell_type": "markdown",
   "metadata": {
    "slideshow": {
     "slide_type": "fragment"
    }
   },
   "source": [
    "### Answer\n",
    "4\n",
    "\n",
    "$2^5$ = 32 bytes -> 4* 8-byte words"
   ]
  },
  {
   "cell_type": "markdown",
   "metadata": {
    "slideshow": {
     "slide_type": "subslide"
    }
   },
   "source": [
    "## 5.5.2\n",
    "How many blocks does the cache have?"
   ]
  },
  {
   "cell_type": "markdown",
   "metadata": {
    "slideshow": {
     "slide_type": "fragment"
    }
   },
   "source": [
    "### Answer\n",
    "$2^5$ = 32"
   ]
  },
  {
   "cell_type": "markdown",
   "metadata": {
    "slideshow": {
     "slide_type": "subslide"
    }
   },
   "source": [
    "## 5.5.3\n",
    "What is the ratio between total bits required for such a cache \n",
    "implementation over the data storage bits?\n",
    " "
   ]
  },
  {
   "cell_type": "markdown",
   "metadata": {
    "slideshow": {
     "slide_type": "fragment"
    }
   },
   "source": [
    "### Answer\n",
    "$\\frac{1 + 54 + 8 \\times 32}{8 \\times 32} = $ 1.21"
   ]
  },
  {
   "cell_type": "markdown",
   "metadata": {
    "slideshow": {
     "slide_type": "subslide"
    }
   },
   "source": [
    "## Beginning from power on, the following byte-addressed cache references are recorded.\n",
    "\n",
    "Address:\n",
    "\n",
    "| Hex | 00 | 04 | 10 | 84 | E8 | A0 | 400 | 1E | 8C | C1C | B4 | 884 |\n",
    "|:---:|:---:|:---:|:---:|:---:|:---:|:---:|:---:|:---:|:---:|:---:|:---:|:---:|\n",
    "| Dec | 0 | 4 | 16 | 132 | 232 | 160 | 1024 | 30 | 140 | 3100 | 180 | 2180 |"
   ]
  },
  {
   "cell_type": "markdown",
   "metadata": {
    "slideshow": {
     "slide_type": "subslide"
    }
   },
   "source": [
    "## 5.5.4\n",
    "For each reference, list (1) its tag, index, and offset, (2) whether \n",
    "it is a hit or a miss, and (3) which bytes were replaced (if any)."
   ]
  },
  {
   "cell_type": "markdown",
   "metadata": {
    "slideshow": {
     "slide_type": "fragment"
    }
   },
   "source": [
    "### Answer\n",
    "\n",
    "![](./5.5.4.png)"
   ]
  },
  {
   "cell_type": "markdown",
   "metadata": {
    "slideshow": {
     "slide_type": "subslide"
    }
   },
   "source": [
    "## 5.5.5\n",
    "What is the hit ratio?"
   ]
  },
  {
   "cell_type": "markdown",
   "metadata": {
    "slideshow": {
     "slide_type": "fragment"
    }
   },
   "source": [
    "### Answer\n",
    "Obviously, 33.3%"
   ]
  },
  {
   "cell_type": "markdown",
   "metadata": {
    "slideshow": {
     "slide_type": "subslide"
    }
   },
   "source": [
    "## 5.5.6\n",
    "List the final state of the cache, with each valid entry represented \n",
    "as a record of `<index, tag, data>`. \n",
    "\n",
    "For example,\n",
    " `<0, 3, Mem[0xC00]-Mem[0xC1F]>`"
   ]
  },
  {
   "cell_type": "markdown",
   "metadata": {
    "slideshow": {
     "slide_type": "fragment"
    }
   },
   "source": [
    "### Answer\n",
    "```\n",
    "    <index, tag, data>  \n",
    "    <0, 3, Mem[0xC00]-Mem[0xC1F]>  \n",
    "    <4, 2, Mem[0x880]-Mem[0x89f]>  \n",
    "    <5, 0, Mem[0x0A0]-Mem[0x0Bf]>  \n",
    "    <7, 0, Mem[0x0e0]-Mem[0x0ff]>\n",
    "```"
   ]
  }
 ],
 "metadata": {
  "celltoolbar": "幻灯片",
  "kernelspec": {
   "display_name": "notebook",
   "language": "python",
   "name": "python3"
  },
  "language_info": {
   "codemirror_mode": {
    "name": "ipython",
    "version": 3
   },
   "file_extension": ".py",
   "mimetype": "text/x-python",
   "name": "python",
   "nbconvert_exporter": "python",
   "pygments_lexer": "ipython3",
   "version": "3.11.7"
  },
  "rise": {
   "scroll": true,
   "theme": "serif",
   "transition": "slide"
  }
 },
 "nbformat": 4,
 "nbformat_minor": 4
}
